{
 "cells": [
  {
   "cell_type": "markdown",
   "metadata": {},
   "source": [
    "### LLM Agent with Function Calling\n",
    "\n",
    "The agent monitors a mailbox—in this case, Gmail—and alerts you about emails that need attention and prompt responses. \n"
   ]
  },
  {
   "cell_type": "code",
   "execution_count": null,
   "metadata": {},
   "outputs": [],
   "source": [
    "%pip install -q openai python-dotenv google-api-python-client google-auth google-auth-httplib2 google-auth-oauthlib bs4"
   ]
  },
  {
   "cell_type": "code",
   "execution_count": null,
   "metadata": {},
   "outputs": [],
   "source": [
    "import sys\n",
    "from openai import AzureOpenAI\n",
    "import json\n",
    "import os\n",
    "from dotenv import load_dotenv\n",
    "_ = load_dotenv()"
   ]
  },
  {
   "cell_type": "code",
   "execution_count": null,
   "metadata": {},
   "outputs": [],
   "source": [
    "from gmail_functions import get_gmail_service, \\\n",
    "    get_current_date, \\\n",
    "    list_messages, \\\n",
    "    classify_and_summarize_email, \\\n",
    "    send_email\n",
    "current_directory = os.getcwd()\n",
    "sys.path.append(current_directory)"
   ]
  },
  {
   "cell_type": "code",
   "execution_count": null,
   "metadata": {},
   "outputs": [],
   "source": [
    "# Configure Azure Open AI\n",
    "os.environ[\"AZURE_OPENAI_API_KEY\"] = os.getenv(\"OPENAI_API_KEY\")\n",
    "os.environ[\"AZURE_OPENAI_ENDPOINT\"] = os.getenv(\"OPENAI_DEPLOYMENT_ENDPOINT\")\n",
    "# Details about supported API versions: https://learn.microsoft.com/en-us/azure/ai-services/openai/reference\n",
    "os.environ[\"OPENAI_API_VERSION\"] = \"2024-03-01-preview\"\n",
    "os.environ[\"OPENAI_API_TYPE\"] = \"azure\"\n",
    "# set gmail credentials\n",
    "sec_profile = get_gmail_service()"
   ]
  },
  {
   "cell_type": "markdown",
   "metadata": {},
   "source": [
    "#### Note that in order to run this code, you need to have a Gmail account and enable the Gmail API.\n",
    "\n",
    "Here https://developers.google.com/gmail/api/quickstart/python you can find a guide on how to enable the Gmail API."
   ]
  },
  {
   "cell_type": "code",
   "execution_count": null,
   "metadata": {},
   "outputs": [],
   "source": [
    "# Authenticate against Gmail API\n",
    "sec_profile = get_gmail_service()"
   ]
  },
  {
   "cell_type": "code",
   "execution_count": null,
   "metadata": {},
   "outputs": [],
   "source": [
    "# initialize the model\n",
    "llm = AzureOpenAI()\n",
    "\n",
    "# Prepare prompt\n",
    "messages = [\n",
    "    {\"role\": \"system\", \"content\": \"\"\"You are a professional email assistant. Carefully analyze the input emails according to the provided instructions.\n",
    "                                Please review all my emails received today only and perform the following tasks:\n",
    "                                1.\tFor each email, determine if it belongs to one of the following categories:\n",
    "                                    a. CONCERN: The sender is concerned about something.\n",
    "                                    b. QUESTION: The sender is inquiring about a particular issue.\n",
    "                                    c. RESPONSE IS AWAITED: The sender is awaiting a response.\n",
    "                                    d. NEGATIVE SENTIMENT: The sender is expressing negative sentiment.\n",
    "\t                            2.\tSend me an email with the following content in the body for each relevant email:\n",
    "\t                                    •\tA summary of the original email.\n",
    "\t                                    •\tOne or more of the categories listed above.\n",
    "\t                                    •\tThe sender of the original email.\n",
    "                                For classification, summarization, and sentiment analysis, use ONLY the meaningful textual content of the email.\n",
    "                                If an email does not fall into any of the categories (CONCERN, QUESTION, RESPONSE AWAITED, or NEGATIVE SENTIMENT), do not include it in the output.\n",
    "                                DO NOT classify the same email into more than one category.\n",
    "                                DO NOT make assumptions about the sender’s intentions; base your reasoning solely on the facts presented in the email.\n",
    "                                DO NOT process emails with the subject: “Important. Attention is required!”\n",
    "                                DO NOT process emails that contain promotional offers or any form of advertising.\n",
    "     \"\"\"},\n",
    "]"
   ]
  },
  {
   "cell_type": "code",
   "execution_count": null,
   "metadata": {},
   "outputs": [],
   "source": [
    "tools = [\n",
    "    {\"type\": \"function\",\n",
    "     \"function\": {\n",
    "             'name': 'get_current_date',\n",
    "             'description': 'Returns the current date in the format YYYY/MM/DD',\n",
    "     }\n",
    "     },\n",
    "    {\n",
    "        \"type\": \"function\",\n",
    "        \"function\": {\n",
    "            'name': 'classify_and_summarize_email',\n",
    "            'description': 'Classifies the email to one or more of the following categories: CONCERN, QUESTION, RESPONSE IS AWAITED, NEGATIVE SENTIMENT. Summarizes the email and returns:  category, summary and the sender email.',\n",
    "            'parameters': {'type': 'object',\n",
    "                           'properties': {'category': {'description': 'email category. Category value must be one of : CONCERN, QUESTION, RESPONSE IS AWAITED, MEGATIVE SENTIMENT', 'type': 'string'},\n",
    "                                          'summary': {'description': 'email summary', 'type': 'string'},\n",
    "                                          'sender_email': {'description': 'sender email', 'type': 'string'}\n",
    "                                          },\n",
    "                           'required': ['category', 'summary', 'sender_email']}}\n",
    "    },\n",
    "    {\"type\": \"function\",\n",
    "     \"function\": {\n",
    "             'name': 'NER',\n",
    "             'description': 'Extract all named entities from the email subject and body. NER stands for Named Entity Recognition',\n",
    "             'parameters': {'type': 'object',\n",
    "                            'properties': {'person': {'description': 'person name', 'type': 'string'},\n",
    "                                           'company': {'description': 'company name', 'type': 'string'},\n",
    "                                           'job_title': {'description': 'person job title', 'type': 'string'}\n",
    "                                           },\n",
    "                            'required': ['person', 'company', 'job_title']}}\n",
    "     },\n",
    "    {\n",
    "        \"type\": \"function\",\n",
    "        \"function\": {\n",
    "                \"name\": \"list_messages\",\n",
    "                \"description\": \"List all messages in the user's mailbox that match the query and output as JSON and returns for every message the subject and body.\",\n",
    "                \"parameters\": {\n",
    "                    \"type\": \"object\",\n",
    "                    \"properties\": {\n",
    "                        \"service\": {\n",
    "                            \"type\": \"object\",\n",
    "                            \"description\": \"Authorized Gmail API service instance.\"\n",
    "                        },\n",
    "                        \"user_id\": {\n",
    "                            \"type\": \"string\",\n",
    "                            \"description\": \"User's email address. The special value 'me' can be used to indicate the authenticated user.\"\n",
    "                        },\n",
    "                        \"max_results\": {\n",
    "                            \"type\": \"integer\",\n",
    "                            \"description\": \"Maximum number of messages to return.\"\n",
    "                        },\n",
    "                        \"query\": {\n",
    "                            \"type\": \"string\",\n",
    "                            \"description\": \"String used to filter the messages listed.\"\n",
    "                        }\n",
    "                    },\n",
    "                    \"required\": [\"service\", \"user_id\", \"max_results\"]\n",
    "                }\n",
    "        }\n",
    "    },\n",
    "    {\n",
    "        \"type\": \"function\",\n",
    "        \"function\": {\n",
    "                \"name\": \"send_email\",\n",
    "                \"description\": \"Send an email .\",\n",
    "                \"parameters\": {\n",
    "                    \"type\": \"object\",\n",
    "                    \"properties\": {\n",
    "                        \"service\": {\n",
    "                            \"type\": \"object\",\n",
    "                            \"description\": \"Authorized Gmail API service instance.\"\n",
    "                        },\n",
    "                        \"user_id\": {\n",
    "                            \"type\": \"string\",\n",
    "                            \"description\": \"User's email address. The special value 'me' can be used to indicate the authenticated user.\"\n",
    "                        },\n",
    "                        \"message\": {\n",
    "                            \"type\": \"string\",\n",
    "                            \"description\": \"The body of the email being sent.\"\n",
    "                        }\n",
    "                    },\n",
    "                    \"required\": [\"service\", \"user_id\", \"email_body\"]\n",
    "                }\n",
    "        }\n",
    "    },\n",
    "]"
   ]
  },
  {
   "cell_type": "code",
   "execution_count": null,
   "metadata": {},
   "outputs": [],
   "source": [
    "response = llm.chat.completions.create(\n",
    "    model=\"gpt-4-turbo\",\n",
    "    temperature=0,\n",
    "    messages=messages,\n",
    "    tools=tools,\n",
    ")\n",
    "response"
   ]
  },
  {
   "cell_type": "code",
   "execution_count": null,
   "metadata": {},
   "outputs": [],
   "source": [
    "\n",
    "supported_functions = {\"get_current_date\": get_current_date,\n",
    "                       \"list_messages\": list_messages,\n",
    "                       \"classify_and_summarize_email\": classify_and_summarize_email,\n",
    "                       \"send_email\": send_email,\n",
    "                       }"
   ]
  },
  {
   "cell_type": "code",
   "execution_count": null,
   "metadata": {},
   "outputs": [],
   "source": [
    "# make it generic with multiple calls\n",
    "while (response.choices[0].finish_reason == 'tool_calls'):\n",
    "\n",
    "    #append model response to the \"messages\"\n",
    "    messages.append(response.choices[0].message)\n",
    "\n",
    "    for tool in response.choices[0].message.tool_calls:\n",
    "        if tool.function.name in supported_functions:\n",
    "            function_arguments = json.loads(tool.function.arguments)\n",
    "            # execute the function\n",
    "            function_response = supported_functions[tool.function.name](\n",
    "                sec_profile, **function_arguments)\n",
    "\n",
    "            #append function output to the \"messages\"\n",
    "            messages.append(\n",
    "                {\n",
    "                    \"tool_call_id\": tool.id,\n",
    "                    \"role\": \"tool\",\n",
    "                    \"name\": tool.function.name,\n",
    "                    \"content\": function_response,\n",
    "                }\n",
    "            )\n",
    "    response = llm.chat.completions.create(\n",
    "        model=\"gpt-4-turbo\",\n",
    "        temperature=0,\n",
    "        messages=messages,\n",
    "        tools=tools,\n",
    "    )\n",
    "    print (response)\n",
    "# finish_reason='stop'\n",
    "print(response.choices[0].message)"
   ]
  },
  {
   "cell_type": "code",
   "execution_count": null,
   "metadata": {},
   "outputs": [],
   "source": [
    "messages"
   ]
  },
  {
   "cell_type": "code",
   "execution_count": null,
   "metadata": {},
   "outputs": [],
   "source": []
  }
 ],
 "metadata": {
  "kernelspec": {
   "display_name": ".venv",
   "language": "python",
   "name": "python3"
  },
  "language_info": {
   "codemirror_mode": {
    "name": "ipython",
    "version": 3
   },
   "file_extension": ".py",
   "mimetype": "text/x-python",
   "name": "python",
   "nbconvert_exporter": "python",
   "pygments_lexer": "ipython3",
   "version": "3.11.9"
  }
 },
 "nbformat": 4,
 "nbformat_minor": 2
}
